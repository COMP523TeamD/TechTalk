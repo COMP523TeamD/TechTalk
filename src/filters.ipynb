{
 "cells": [
  {
   "attachments": {},
   "cell_type": "markdown",
   "metadata": {},
   "source": [
    "# Preparing our image for contour generation"
   ]
  },
  {
   "attachments": {},
   "cell_type": "markdown",
   "metadata": {},
   "source": [
    "### Steps\n",
    "1. Smoothing\n",
    "2. Foreground/background segmentation\n",
    "3. Hole-filling\n",
    "4. Island removal"
   ]
  },
  {
   "attachments": {},
   "cell_type": "markdown",
   "metadata": {},
   "source": [
    "### Setup"
   ]
  },
  {
   "cell_type": "code",
   "execution_count": null,
   "metadata": {},
   "outputs": [],
   "source": [
    "import SimpleITK as sitk\n",
    "import numpy as np\n",
    "import matplotlib.pyplot as plt\n",
    "from rotations_helpers import disp_slice\n",
    "from filters_helpers import get_center_axial_slice\n",
    "\n",
    "img: sitk.Image = get_center_axial_slice('../ExampleData/MicroBiome_1month_T1w.nii.g')"
   ]
  },
  {
   "attachments": {},
   "cell_type": "markdown",
   "metadata": {},
   "source": [
    "### Smoothing\n",
    "First, we smooth the image to reduce noise. We will use the `GradientAnisotropicDiffusionImageFilter` to accomplish this task because of its [edge-preserving properties](https://en.wikipedia.org/wiki/Edge-preserving_smoothing)."
   ]
  },
  {
   "cell_type": "code",
   "execution_count": null,
   "metadata": {},
   "outputs": [],
   "source": [
    "anisotropic_diffusion_filter = sitk.GradientAnisotropicDiffusionImageFilter()"
   ]
  },
  {
   "attachments": {},
   "cell_type": "markdown",
   "metadata": {},
   "source": [
    "The `GradientAnisotropicDiffusionImageFilter` has [several parameters](https://slicer.readthedocs.io/en/latest/user_guide/modules/gradientanisotropicdiffusion.html) that the user can set. We will set the time step to 0.0625 for a stable solution. "
   ]
  },
  {
   "cell_type": "code",
   "execution_count": null,
   "metadata": {},
   "outputs": [],
   "source": [
    "STABLE_TIME_STEP = 0.0625\n",
    "\n",
    "anisotropic_diffusion_filter.SetTimeStep(STABLE_TIME_STEP)"
   ]
  },
  {
   "attachments": {},
   "cell_type": "markdown",
   "metadata": {},
   "source": [
    "Also, we will set the conductance paramter. The lower its value, the more strongly edges are preserved."
   ]
  },
  {
   "cell_type": "code",
   "execution_count": null,
   "metadata": {},
   "outputs": [],
   "source": [
    "CONDUCTANCE_PARAMETER = 3.0\n",
    "\n",
    "smooth_img: sitk.Image = anisotropic_diffusion_filter.SetConductanceParameter(CONDUCTANCE_PARAMETER)\n",
    "disp_slice(smooth_img)"
   ]
  },
  {
   "attachments": {},
   "cell_type": "markdown",
   "metadata": {},
   "source": [
    "### Foreground/Background Segmentation\n",
    "Now we will segment our image into a foreground and background. This helps us eventually generate a contour of our image.\n",
    "\n",
    "The `OtsuThresholdImageFilter` is one way to segment the image. It automatically computes a threshold."
   ]
  },
  {
   "cell_type": "code",
   "execution_count": null,
   "metadata": {},
   "outputs": [],
   "source": [
    "otsu_img: sitk.Image = sitk.OtsuThresholdImageFilter().Execute(smooth_img)\n",
    "disp_slice(otsu_img)"
   ]
  },
  {
   "attachments": {},
   "cell_type": "markdown",
   "metadata": {},
   "source": [
    "We could also use the `BinaryThresholdImageFilter` if we want to specify a lower and upper threshold."
   ]
  },
  {
   "cell_type": "code",
   "execution_count": null,
   "metadata": {},
   "outputs": [],
   "source": [
    "LOWER_THRESHOLD = 0.0\n",
    "UPPER_THRESHOLD = 1.0\n",
    "\n",
    "binary_threshold_filter: sitk.Image = sitk.BinaryThresholdImageFilter()\n",
    "binary_threshold_filter.SetLowerThreshold(LOWER_THRESHOLD)\n",
    "binary_threshold_filter.SetUpperThreshold(UPPER_THRESHOLD)\n",
    "binary_img: sitk.Image = binary_threshold_filter.Execute(smooth_img)\n",
    "disp_slice(binary_img)"
   ]
  },
  {
   "attachments": {},
   "cell_type": "markdown",
   "metadata": {},
   "source": [
    "### Hole-Filling\n",
    "Often, the result of our foreground/background segmentation has holes. If we were to generate a contour at this point, each of the holes would have their own contour. However, we only want to generate a contour for the head. So, we will use the `BinaryGrindPeakImageFilter` to remove any holes.\n",
    "\n",
    "**Note:**\n",
    "\n",
    "The previous processing steps result in an inverted image (i.e. the pixels representing the head are 0 as opposed to 1). For the `BinaryGrindPeakImageFilter` to work as expected, our image must remain inverted."
   ]
  },
  {
   "cell_type": "code",
   "execution_count": null,
   "metadata": {},
   "outputs": [],
   "source": [
    "no_holes_img: sitk.Image = sitk.BinaryGrindPeakImageFilter().Execute(otsu_img)\n",
    "disp_slice(no_holes_img)"
   ]
  },
  {
   "attachments": {},
   "cell_type": "markdown",
   "metadata": {},
   "source": [
    "### Island Removal\n",
    "Sometimes an image is very noisy. This can result in small islands being scattered throughout the image. These islands will result in the generation of additonal contours, so we will remove them from our image. We can do so by selecting the largest component using the `ConnectedComponentImageFilter`.\n",
    "\n",
    "**Note:**\n",
    "\n",
    "The largest component selection algorithm relies upon our image not being inverted. We must use the `NotImageFilter` for a non-inverted image."
   ]
  },
  {
   "cell_type": "code",
   "execution_count": null,
   "metadata": {},
   "outputs": [],
   "source": [
    "noninverted_img: sitk.Image = sitk.NotImageFilter().Execute(no_holes_img)\n",
    "component_image = sitk.ConnectedComponentImageFilter().Execute(noninverted_img)\n",
    "sorted_component_image = sitk.RelabelComponent(\n",
    "    component_image, sortByObjectSize=True\n",
    ")\n",
    "largest_component = sorted_component_image == 1\n",
    "disp_slice(largest_component)"
   ]
  }
 ],
 "metadata": {
  "language_info": {
   "name": "python"
  },
  "orig_nbformat": 4
 },
 "nbformat": 4,
 "nbformat_minor": 2
}
