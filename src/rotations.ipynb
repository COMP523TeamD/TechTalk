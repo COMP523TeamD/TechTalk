{
 "cells": [
  {
   "attachments": {},
   "cell_type": "markdown",
   "metadata": {},
   "source": [
    "# Overview\n",
    "\n",
    "- Setup\n",
    "- Read image\n",
    "- 4 properties of a `sitk.Image`\n",
    "- Display the middle z slice\n",
    "- SITK and numpy indexing reversed\n",
    "- Try displaying middle x and y slices\n",
    "- Misoriented...\n",
    "- Which properties did `DICOMOrientImageFilter` change\n",
    "- Orient for sagittal and coronal views\n",
    "- 2D rotation\n",
    "- Interactive 2D rotation\n",
    "- 3D rotation\n",
    "- Interactive 3D rotation\n",
    "- Rotations for all views"
   ]
  },
  {
   "attachments": {},
   "cell_type": "markdown",
   "metadata": {},
   "source": [
    "# Setup"
   ]
  },
  {
   "cell_type": "code",
   "execution_count": null,
   "metadata": {},
   "outputs": [],
   "source": [
    "# Image processing\n",
    "import SimpleITK as sitk\n",
    "import numpy as np\n",
    "\n",
    "# Image rendering\n",
    "import matplotlib.pyplot as plt\n",
    "\n",
    "%matplotlib inline\n",
    "from ipywidgets import interact, fixed\n",
    "\n",
    "# Miscellaneous\n",
    "from pathlib import Path\n",
    "from pprint import pprint\n",
    "from rotations_helpers import degrees_to_radians, disp_slice, resample_2d_rotation, resample_3d_rotation, View\n",
    "\n",
    "# Set up directories\n",
    "# When running the Jupyter notebook, Path.cwd() is TechTalk/src/\n",
    "HOME_DIR = Path.cwd().parents[0]\n",
    "EXAMPLE_DATA_DIR = HOME_DIR / \"ExampleData\"\n",
    "\n",
    "# The extensions we support in our project. Not a complete list.\n",
    "# See https://simpleitk.readthedocs.io/en/master/IO.html for everything that sitk supports.\n",
    "SUPPORTED_EXTENSIONS: tuple = (\"*.nii.gz\", \"*.nii\", \"*.nrrd\")\n",
    "\n",
    "EXAMPLE_DATA_PATHS: list[Path] = list()\n",
    "for extension in SUPPORTED_EXTENSIONS:\n",
    "    for path in EXAMPLE_DATA_DIR.glob(extension):\n",
    "        EXAMPLE_DATA_PATHS.append(path)"
   ]
  },
  {
   "attachments": {},
   "cell_type": "markdown",
   "metadata": {},
   "source": [
    "# Read image\n",
    "\n",
    "Create a `sitk.ImageFileReader` to read files, then store the images in variables.\n",
    "\n",
    "[List of extensions supported](https://simpleitk.readthedocs.io/en/master/IO.html)"
   ]
  },
  {
   "cell_type": "code",
   "execution_count": null,
   "metadata": {},
   "outputs": [],
   "source": [
    "READER: sitk.ImageFileReader = sitk.ImageFileReader()\n",
    "\n",
    "nifti_path: Path = EXAMPLE_DATA_PATHS[0]\n",
    "READER.SetFileName(str(nifti_path))\n",
    "nifti_3d: sitk.Image = READER.Execute()\n",
    "\n",
    "nrrd_path: Path = EXAMPLE_DATA_PATHS[-1]\n",
    "# We need only give ImageFileReader a file path.\n",
    "# It will automatically detect the file type.\n",
    "READER.SetFileName(str(nrrd_path))\n",
    "nrrd_3d: sitk.Image = READER.Execute()"
   ]
  },
  {
   "attachments": {},
   "cell_type": "markdown",
   "metadata": {},
   "source": [
    "# 4 properties of a `sitk.Image`\n",
    "\n",
    "* Origin\n",
    "* Size\n",
    "* Spacing\n",
    "* Direction matrix"
   ]
  },
  {
   "cell_type": "code",
   "execution_count": null,
   "metadata": {},
   "outputs": [],
   "source": [
    "properties: dict = {\n",
    "    \"origin\": nifti_3d.GetOrigin(),\n",
    "    \"size\": nifti_3d.GetSize(),\n",
    "    \"spacing\": nifti_3d.GetSpacing(),\n",
    "    \"direction\": nifti_3d.GetDirection(),\n",
    "}\n",
    "ORIGIN = properties[\"origin\"]\n",
    "SIZE = properties[\"size\"]\n",
    "SPACING = properties[\"spacing\"]\n",
    "DIRECTION = properties[\"direction\"]\n",
    "\n",
    "properties"
   ]
  },
  {
   "attachments": {},
   "cell_type": "markdown",
   "metadata": {},
   "source": [
    "# Display the middle z slice\n",
    "\n",
    "Here, we have to convert the `sitk.Image` to a `numpy` array to render it with `matplotlib.pyplot`.\n",
    "\n",
    "In our project, we also have to convert `sitk.Image` to `numpy` array to render in the GUI.\n",
    "\n",
    "Essentially, numpy is a secondary image processing/rendering library."
   ]
  },
  {
   "cell_type": "code",
   "execution_count": null,
   "metadata": {},
   "outputs": [],
   "source": [
    "z_center: int = (SIZE[2] - 1) // 2\n",
    "slice_middle_z: sitk.Image = nifti_3d[:, :, z_center]\n",
    "\n",
    "print(\"\\t\\tAxial\")\n",
    "slice_np: np.ndarray = sitk.GetArrayFromImage(slice_middle_z)\n",
    "plt.imshow(slice_np)\n",
    "plt.axis(\"off\")\n",
    "\n",
    "# From now on, will use disp_slice(img_2d: sitk.Image)\n",
    "# It does the same thing as above"
   ]
  },
  {
   "attachments": {},
   "cell_type": "markdown",
   "metadata": {},
   "source": [
    "# However, SimpleITK and numpy indexing are in [opposite order](https://simpleitk.org/SPIE2019_COURSE/02_images_and_resampling.html#SimpleITK2Numpy-and-Numpy2SimpleITK)!\n",
    "\n",
    "SimpleITK: `[x, y, z]`\n",
    "\n",
    "numpy: `[z, y, x]`"
   ]
  },
  {
   "cell_type": "code",
   "execution_count": null,
   "metadata": {},
   "outputs": [],
   "source": [
    "print(f\"sitk.Image dimensions: {SIZE}\")\n",
    "nifti_3d_np: np.ndarray = sitk.GetArrayFromImage(nifti_3d)\n",
    "print(f\"ndarray dimensions: {nifti_3d_np.shape}\")\n",
    "\n",
    "# Looping over all values would take too long\n",
    "for x in range(0, SIZE[0], 25):\n",
    "    for y in range(0, SIZE[1], 25):\n",
    "        for z in range(0, SIZE[2], 25):\n",
    "            assert nifti_3d.GetPixel(x, y, z) == nifti_3d_np[z][y][x]"
   ]
  },
  {
   "attachments": {},
   "cell_type": "markdown",
   "metadata": {},
   "source": [
    "# Try displaying middle x and y slices"
   ]
  },
  {
   "cell_type": "code",
   "execution_count": null,
   "metadata": {},
   "outputs": [],
   "source": [
    "x_center: int = (SIZE[0] - 1) // 2\n",
    "y_center: int = (SIZE[1] - 1) // 2\n",
    "\n",
    "print(\"\\t\\t\\t\\tSagittal\")\n",
    "disp_slice(nifti_3d[x_center, :, :])\n",
    "print(\"\\t\\t\\t\\tCoronal\")\n",
    "disp_slice(nifti_3d[:, y_center, :])"
   ]
  },
  {
   "attachments": {},
   "cell_type": "markdown",
   "metadata": {},
   "source": [
    "# Misoriented... orient the image to follow ITK-SNAP radiological conventions\n",
    "\n",
    "[ITK-SNAP](http://www.itksnap.org) is an official medical image viewer. Let's orient this image for the **axial view** using the [`DICOMOrientImageFilter`](https://simpleitk.org/doxygen/latest/html/classitk_1_1simple_1_1DICOMOrientImageFilter.html#details).\n",
    "\n",
    "Btw, `DICOMOrientImageFilter` will orient any image, even a very misaligned one such as `ExampleData/IBIS_Dataset_NotAligned_6month_T1w.nrrd` in the same way (i.e., will be aligned the same as the below screenshot for all 3 views).\n",
    "\n",
    "![NIfTI image in ITK-SNAP](../img/NIfTI_ITKSNAP_annotated.png)"
   ]
  },
  {
   "cell_type": "code",
   "execution_count": null,
   "metadata": {},
   "outputs": [],
   "source": [
    "AXIAL_ORIENTATION_STR = \"LPS\"\n",
    "ORIENT_FILTER: sitk.DICOMOrientImageFilter = sitk.DICOMOrientImageFilter()\n",
    "ORIENT_FILTER.SetDesiredCoordinateOrientation(AXIAL_ORIENTATION_STR)\n",
    "\n",
    "nifti_3d_axial: sitk.Image = ORIENT_FILTER.Execute(nifti_3d)\n",
    "slice_axial: sitk.Image = nifti_3d_axial[:, :, z_center]\n",
    "\n",
    "print(\"\\t\\tAxial\")\n",
    "disp_slice(slice_axial)"
   ]
  },
  {
   "attachments": {},
   "cell_type": "markdown",
   "metadata": {},
   "source": [
    "# Which of the four properties did `DICOMOrientImageFilter` change?"
   ]
  },
  {
   "cell_type": "code",
   "execution_count": null,
   "metadata": {},
   "outputs": [],
   "source": [
    "properties_axial: dict = {\n",
    "    \"origin\": nifti_3d_axial.GetOrigin(),\n",
    "    \"size\": nifti_3d_axial.GetSize(),\n",
    "    \"spacing\": nifti_3d_axial.GetSpacing(),\n",
    "    \"direction\": nifti_3d_axial.GetDirection(),\n",
    "}\n",
    "ORIGIN_AXIAL = properties_axial[\"origin\"]\n",
    "SIZE_AXIAL = properties_axial[\"size\"]\n",
    "SPACING_AXIAL = properties_axial[\"spacing\"]\n",
    "DIRECTION_AXIAL = properties_axial[\"direction\"]\n",
    "\n",
    "print(\"nifti_3d\")\n",
    "pprint(properties)\n",
    "print()\n",
    "print(\"nifti_3d_axial\")\n",
    "pprint(properties_axial)"
   ]
  },
  {
   "attachments": {},
   "cell_type": "markdown",
   "metadata": {},
   "source": [
    "# Orient for sagittal and coronal views"
   ]
  },
  {
   "cell_type": "code",
   "execution_count": null,
   "metadata": {},
   "outputs": [],
   "source": [
    "SAGITTAL_ORIENTATION_STR: str = \"RPI\"\n",
    "CORONAL_ORIENTATION_STR: str = \"LPI\"\n",
    "\n",
    "ORIENT_FILTER.SetDesiredCoordinateOrientation(SAGITTAL_ORIENTATION_STR)\n",
    "nifti_3d_sagittal: sitk.Image = ORIENT_FILTER.Execute(nifti_3d)\n",
    "\n",
    "ORIENT_FILTER.SetDesiredCoordinateOrientation(CORONAL_ORIENTATION_STR)\n",
    "nifti_3d_coronal: sitk.Image = ORIENT_FILTER.Execute(nifti_3d)\n",
    "\n",
    "print(\"\\t\\t\\t\\tSagittal\")\n",
    "disp_slice(nifti_3d_sagittal[x_center, :, :])\n",
    "print(\"\\t\\t\\t\\tCoronal\")\n",
    "disp_slice(nifti_3d_coronal[:, y_center, :])"
   ]
  },
  {
   "attachments": {},
   "cell_type": "markdown",
   "metadata": {},
   "source": [
    "# 2D rotation using `Euler2DTransform`"
   ]
  },
  {
   "cell_type": "code",
   "execution_count": null,
   "metadata": {},
   "outputs": [],
   "source": [
    "euler_2d_transform: sitk.Euler2DTransform = sitk.Euler2DTransform()\n",
    "euler_2d_transform.SetCenter(\n",
    "    slice_axial.TransformContinuousIndexToPhysicalPoint(\n",
    "        [(dimension - 1) / 2.0 for dimension in slice_axial.GetSize()]\n",
    "    )\n",
    ")\n",
    "\n",
    "euler_2d_transform.SetAngle(degrees_to_radians(90))\n",
    "\n",
    "rotated_slice: sitk.Image = sitk.Resample(slice_axial, euler_2d_transform)\n",
    "disp_slice(rotated_slice)\n"
   ]
  },
  {
   "attachments": {},
   "cell_type": "markdown",
   "metadata": {},
   "source": [
    "# Interactive 2D rotation"
   ]
  },
  {
   "cell_type": "code",
   "execution_count": null,
   "metadata": {},
   "outputs": [],
   "source": [
    "interact(\n",
    "    resample_2d_rotation,\n",
    "    img_2d=fixed(slice_axial),\n",
    "    euler_2d_transform = fixed(euler_2d_transform),\n",
    "    theta=(0, 360)\n",
    ")"
   ]
  },
  {
   "attachments": {},
   "cell_type": "markdown",
   "metadata": {},
   "source": [
    "# 3D rotation using `Euler3DTransform`"
   ]
  },
  {
   "cell_type": "code",
   "execution_count": null,
   "metadata": {},
   "outputs": [],
   "source": [
    "euler_3d_transform: sitk.Euler3DTransform = sitk.Euler3DTransform()\n",
    "euler_3d_transform.SetCenter(\n",
    "    nifti_3d_axial.TransformContinuousIndexToPhysicalPoint(\n",
    "        [(dimension - 1) / 2.0 for dimension in nifti_3d_axial.GetSize()]\n",
    "    )\n",
    ")\n",
    "\n",
    "euler_3d_transform.SetRotation(degrees_to_radians(90), degrees_to_radians(90), degrees_to_radians(90))\n",
    "\n",
    "rotated_3d: sitk.Image = sitk.Resample(nifti_3d_axial, euler_3d_transform)\n",
    "rotated_slice: sitk.Image = rotated_3d[:, :, z_center]\n",
    "disp_slice(rotated_slice)\n"
   ]
  },
  {
   "attachments": {},
   "cell_type": "markdown",
   "metadata": {},
   "source": [
    "# Interactive 3D rotation"
   ]
  },
  {
   "cell_type": "code",
   "execution_count": null,
   "metadata": {},
   "outputs": [],
   "source": [
    "interact(\n",
    "    resample_3d_rotation,\n",
    "    # Oriented for axial view, LPS\n",
    "    img_3d=fixed(nifti_3d_axial),\n",
    "    euler_3d_transform = fixed(euler_3d_transform),\n",
    "    theta_x=(0, 360),\n",
    "    theta_y=(0, 360),\n",
    "    theta_z=(0, 360),\n",
    "    slice=(0, nifti_3d_axial.GetSize()[2]-1),\n",
    "    view=fixed(View.Z)\n",
    ")"
   ]
  },
  {
   "attachments": {},
   "cell_type": "markdown",
   "metadata": {},
   "source": [
    "# Rotations for all views"
   ]
  },
  {
   "cell_type": "code",
   "execution_count": null,
   "metadata": {},
   "outputs": [],
   "source": [
    "interact(\n",
    "    resample_3d_rotation,\n",
    "    # Oriented for sagittal view, RPI\n",
    "    img_3d=fixed(nifti_3d_sagittal),\n",
    "    euler_3d_transform = fixed(euler_3d_transform),\n",
    "    theta_x=(0, 360),\n",
    "    theta_y=(0, 360),\n",
    "    theta_z=(0, 360),\n",
    "    slice=(0, nifti_3d_axial.GetSize()[View.X.value]-1),\n",
    "    view=fixed(View.X)\n",
    ")\n",
    "interact(\n",
    "    resample_3d_rotation,\n",
    "    # Oriented for coronal view, LPI\n",
    "    img_3d=fixed(nifti_3d_coronal),\n",
    "    euler_3d_transform = fixed(euler_3d_transform),\n",
    "    theta_x=(0, 360),\n",
    "    theta_y=(0, 360),\n",
    "    theta_z=(0, 360),\n",
    "    slice=(0, nifti_3d_axial.GetSize()[View.Y.value]-1),\n",
    "    view=fixed(View.Y)\n",
    ")\n",
    "interact(\n",
    "    resample_3d_rotation,\n",
    "    # Oriented for axial view, LPS\n",
    "    img_3d=fixed(nifti_3d_axial),\n",
    "    euler_3d_transform = fixed(euler_3d_transform),\n",
    "    theta_x=(0, 360),\n",
    "    theta_y=(0, 360),\n",
    "    theta_z=(0, 360),\n",
    "    slice=(0, nifti_3d_axial.GetSize()[View.Z.value]-1),\n",
    "    view=fixed(View.Z)\n",
    ")"
   ]
  }
 ],
 "metadata": {
  "kernelspec": {
   "display_name": "TechTalk",
   "language": "python",
   "name": "python3"
  },
  "language_info": {
   "codemirror_mode": {
    "name": "ipython",
    "version": 3
   },
   "file_extension": ".py",
   "mimetype": "text/x-python",
   "name": "python",
   "nbconvert_exporter": "python",
   "pygments_lexer": "ipython3",
   "version": "3.10.2"
  },
  "orig_nbformat": 4
 },
 "nbformat": 4,
 "nbformat_minor": 2
}
