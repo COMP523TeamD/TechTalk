{
 "cells": [
  {
   "cell_type": "markdown",
   "metadata": {
    "slideshow": {
     "slide_type": "slide"
    }
   },
   "source": [
    "# Image rotations\n",
    "\n",
    "![](../img/rotation.gif \"spinnnnnnnnnnnnn\")"
   ]
  },
  {
   "cell_type": "markdown",
   "metadata": {
    "slideshow": {
     "slide_type": "slide"
    }
   },
   "source": [
    "# Steps\n",
    "\n",
    "1. Setup\n",
    "2. Basics\n",
    "3. Get image slice\n",
    "4. Orientation\n",
    "5. Rotations"
   ]
  },
  {
   "cell_type": "markdown",
   "metadata": {
    "slideshow": {
     "slide_type": "slide"
    }
   },
   "source": [
    "# Setup"
   ]
  },
  {
   "cell_type": "code",
   "execution_count": null,
   "metadata": {
    "slideshow": {
     "slide_type": "slide"
    }
   },
   "outputs": [],
   "source": [
    "\n",
    "# Image processing\n",
    "import SimpleITK as sitk\n",
    "import numpy as np\n",
    "\n",
    "# Image rendering\n",
    "import matplotlib.pyplot as plt\n",
    "\n",
    "%matplotlib inline\n",
    "from ipywidgets import interact, fixed\n",
    "\n",
    "# Miscellaneous\n",
    "from pprint import pprint\n",
    "from rotations_helpers import (degrees_to_radians, disp_slice,\n",
    "                               resample_2d_rotation, resample_3d_rotation, View,\n",
    "                               get_center_of_rotation)"
   ]
  },
  {
   "cell_type": "markdown",
   "metadata": {
    "slideshow": {
     "slide_type": "slide"
    }
   },
   "source": [
    "# Read image using `sitk.ImageFileReader`\n",
    "\n",
    "[List of extensions supported](https://simpleitk.readthedocs.io/en/master/IO.html)"
   ]
  },
  {
   "cell_type": "code",
   "execution_count": null,
   "metadata": {
    "slideshow": {
     "slide_type": "slide"
    }
   },
   "outputs": [],
   "source": [
    "\n",
    "READER: sitk.ImageFileReader = sitk.ImageFileReader()\n",
    "\n",
    "# We need only give ImageFileReader a file path.\n",
    "# It will automatically detect the file type.\n",
    "READER.SetFileName(\"../ExampleData/MicroBiome_1month_T1w.nii.gz\")\n",
    "img_3d: sitk.Image = READER.Execute()"
   ]
  },
  {
   "cell_type": "markdown",
   "metadata": {
    "slideshow": {
     "slide_type": "slide"
    }
   },
   "source": [
    "# Display the middle z slice\n",
    "\n",
    "Here, we have to convert the `sitk.Image` to a `numpy` array for rendering."
   ]
  },
  {
   "cell_type": "code",
   "execution_count": null,
   "metadata": {
    "slideshow": {
     "slide_type": "slide"
    }
   },
   "outputs": [],
   "source": [
    "\n",
    "SIZE = img_3d.GetSize()\n",
    "z_center: int = (SIZE[2] - 1) // 2\n",
    "slice_middle_z: sitk.Image = img_3d[:, :, z_center]\n",
    "\n",
    "# Convert sitk.Image to numpy array for rendering\n",
    "slice_np: np.ndarray = sitk.GetArrayFromImage(slice_middle_z)\n",
    "plt.imshow(slice_np, cmap=\"gray\")\n",
    "plt.axis(\"off\")"
   ]
  },
  {
   "cell_type": "markdown",
   "metadata": {
    "slideshow": {
     "slide_type": "slide"
    }
   },
   "source": [
    "# SimpleITK and numpy use [opposite orders for indexing](https://simpleitk.org/SPIE2019_COURSE/02_images_and_resampling.html#SimpleITK2Numpy-and-Numpy2SimpleITK)!\n",
    "\n",
    "SimpleITK: `[x, y, z]`\n",
    "\n",
    "numpy: `[z, y, x]`"
   ]
  },
  {
   "cell_type": "code",
   "execution_count": null,
   "metadata": {
    "slideshow": {
     "slide_type": "slide"
    }
   },
   "outputs": [],
   "source": [
    "\n",
    "print(f\"sitk.Image dimensions: {SIZE}\")\n",
    "img_3d_np: np.ndarray = sitk.GetArrayFromImage(img_3d)\n",
    "print(f\"ndarray dimensions: {img_3d_np.shape}\")\n",
    "\n",
    "for x in range(0, SIZE[0], 25):\n",
    "    for y in range(0, SIZE[1], 25):\n",
    "        for z in range(0, SIZE[2], 25):\n",
    "            assert img_3d.GetPixel(x, y, z) == img_3d_np[z][y][x]"
   ]
  },
  {
   "cell_type": "markdown",
   "metadata": {
    "slideshow": {
     "slide_type": "slide"
    }
   },
   "source": [
    "# Try displaying middle x and y slices"
   ]
  },
  {
   "cell_type": "code",
   "execution_count": null,
   "metadata": {
    "slideshow": {
     "slide_type": "slide"
    }
   },
   "outputs": [],
   "source": [
    "\n",
    "x_center: int = (SIZE[0] - 1) // 2\n",
    "y_center: int = (SIZE[1] - 1) // 2\n",
    "\n",
    "disp_slice(img_3d[x_center, :, :])\n",
    "disp_slice(img_3d[:, y_center, :])"
   ]
  },
  {
   "cell_type": "markdown",
   "metadata": {
    "slideshow": {
     "slide_type": "slide"
    }
   },
   "source": [
    "# Misoriented... orient the image to follow [ITK-SNAP](http://www.itksnap.org) radiological conventions\n",
    "\n",
    "Let's orient this image for the **axial view** using the [`DICOMOrientImageFilter`](https://simpleitk.org/doxygen/latest/html/classitk_1_1simple_1_1DICOMOrientImageFilter.html#details).\n",
    "\n",
    "`DICOMOrientImageFilter` can orient any image, even a misaligned one such as `ExampleData/IBIS_Dataset_NotAligned_6month_T1w.nrrd`, for all 3 views such that the views look like this:\n",
    "\n",
    "![NIfTI image in ITK-SNAP](https://i.imgur.com/ZTZ2icP.png)"
   ]
  },
  {
   "cell_type": "code",
   "execution_count": null,
   "metadata": {
    "slideshow": {
     "slide_type": "slide"
    }
   },
   "outputs": [],
   "source": [
    "\n",
    "# From https://simpleitk.org/doxygen/latest/html/classitk_1_1simple_1_1DICOMOrientImageFilter.html#details\n",
    "ORIENT_FILTER: sitk.DICOMOrientImageFilter = sitk.DICOMOrientImageFilter()\n",
    "AXIAL_ORIENTATION_STR = \"LPS\"\n",
    "ORIENT_FILTER.SetDesiredCoordinateOrientation(AXIAL_ORIENTATION_STR)\n",
    "\n",
    "img_3d_axial: sitk.Image = ORIENT_FILTER.Execute(img_3d)\n",
    "slice_axial: sitk.Image = img_3d_axial[:, :, z_center]\n",
    "\n",
    "print(\"Axial\")\n",
    "disp_slice(slice_axial)"
   ]
  },
  {
   "cell_type": "markdown",
   "metadata": {
    "slideshow": {
     "slide_type": "slide"
    }
   },
   "source": [
    "# Orient for sagittal and coronal views"
   ]
  },
  {
   "cell_type": "code",
   "execution_count": null,
   "metadata": {
    "scrolled": true,
    "slideshow": {
     "slide_type": "slide"
    }
   },
   "outputs": [],
   "source": [
    "\n",
    "SAGITTAL_ORIENTATION_STR: str = \"RPI\"\n",
    "CORONAL_ORIENTATION_STR: str = \"LPI\"\n",
    "\n",
    "ORIENT_FILTER.SetDesiredCoordinateOrientation(SAGITTAL_ORIENTATION_STR)\n",
    "img_3d_sagittal: sitk.Image = ORIENT_FILTER.Execute(img_3d)\n",
    "\n",
    "ORIENT_FILTER.SetDesiredCoordinateOrientation(CORONAL_ORIENTATION_STR)\n",
    "img_3d_coronal: sitk.Image = ORIENT_FILTER.Execute(img_3d)\n",
    "\n",
    "print(\"Sagittal\")\n",
    "disp_slice(img_3d_sagittal[x_center, :, :])\n",
    "print(\"Coronal\")\n",
    "disp_slice(img_3d_coronal[:, y_center, :])"
   ]
  },
  {
   "cell_type": "markdown",
   "metadata": {
    "slideshow": {
     "slide_type": "slide"
    }
   },
   "source": [
    "# 2D rotation using `Euler2DTransform`"
   ]
  },
  {
   "cell_type": "code",
   "execution_count": null,
   "metadata": {
    "slideshow": {
     "slide_type": "slide"
    }
   },
   "outputs": [],
   "source": [
    "\n",
    "# Initialize 2D rotation transform object with center of rotation\n",
    "# get_center_of_rotation just divides dimensions by 2\n",
    "euler_2d_transform: sitk.Euler2DTransform = sitk.Euler2DTransform(\n",
    "    get_center_of_rotation(slice_axial)\n",
    ")\n",
    "euler_2d_transform.SetAngle(degrees_to_radians(90))\n",
    "\n",
    "rotated_slice: sitk.Image = sitk.Resample(slice_axial, euler_2d_transform)\n",
    "disp_slice(rotated_slice)\n"
   ]
  },
  {
   "cell_type": "markdown",
   "metadata": {
    "slideshow": {
     "slide_type": "slide"
    }
   },
   "source": [
    "# Interactive 2D rotation"
   ]
  },
  {
   "cell_type": "code",
   "execution_count": null,
   "metadata": {
    "slideshow": {
     "slide_type": "slide"
    }
   },
   "outputs": [],
   "source": [
    "\n",
    "interact(\n",
    "    resample_2d_rotation,\n",
    "    img_2d=fixed(slice_axial),\n",
    "    euler_2d_transform = fixed(euler_2d_transform),\n",
    "    θ=(-90, 90)\n",
    ")"
   ]
  },
  {
   "cell_type": "markdown",
   "metadata": {
    "slideshow": {
     "slide_type": "slide"
    }
   },
   "source": [
    "# 3D rotation using `Euler3DTransform`"
   ]
  },
  {
   "cell_type": "code",
   "execution_count": null,
   "metadata": {
    "slideshow": {
     "slide_type": "slide"
    }
   },
   "outputs": [],
   "source": [
    "\n",
    "euler_3d_transform: sitk.Euler3DTransform = sitk.Euler3DTransform(get_center_of_rotation(img_3d_axial))\n",
    "euler_3d_transform.SetRotation(degrees_to_radians(90), degrees_to_radians(90), degrees_to_radians(90))\n",
    "\n",
    "rotated_3d: sitk.Image = sitk.Resample(img_3d_axial, euler_3d_transform)\n",
    "rotated_slice: sitk.Image = rotated_3d[:, :, z_center]\n",
    "disp_slice(rotated_slice)\n"
   ]
  },
  {
   "cell_type": "markdown",
   "metadata": {
    "slideshow": {
     "slide_type": "slide"
    }
   },
   "source": [
    "# Interactive 3D rotations for all views"
   ]
  },
  {
   "cell_type": "code",
   "execution_count": null,
   "metadata": {
    "slideshow": {
     "slide_type": "slide"
    }
   },
   "outputs": [],
   "source": [
    "\n",
    "print(\"Sagittal\")\n",
    "interact(\n",
    "    resample_3d_rotation,\n",
    "    img_3d=fixed(img_3d_sagittal),\n",
    "    euler_3d_transform = fixed(euler_3d_transform),\n",
    "    θ_x=(-90, 90),\n",
    "    θ_y=(-90, 90),\n",
    "    θ_z=(-90, 90),\n",
    "    slice=(0, img_3d_axial.GetSize()[View.X.value]-1),\n",
    "    view=fixed(View.X)\n",
    ")\n",
    "\n",
    "print(\"Coronal\")\n",
    "interact(\n",
    "    resample_3d_rotation,\n",
    "    img_3d=fixed(img_3d_coronal),\n",
    "    euler_3d_transform = fixed(euler_3d_transform),\n",
    "    θ_x=(-90, 90),\n",
    "    θ_y=(-90, 90),\n",
    "    θ_z=(-90, 90),\n",
    "    slice=(0, img_3d_axial.GetSize()[View.Y.value]-1),\n",
    "    view=fixed(View.Y)\n",
    ")\n",
    "\n",
    "print(\"Axial\")\n",
    "interact(\n",
    "    resample_3d_rotation,\n",
    "    img_3d=fixed(img_3d_axial),\n",
    "    euler_3d_transform = fixed(euler_3d_transform),\n",
    "    θ_x=(-90, 90),\n",
    "    θ_y=(-90, 90),\n",
    "    θ_z=(-90, 90),\n",
    "    slice=(0, img_3d_axial.GetSize()[View.Z.value]-1),\n",
    "    view=fixed(View.Z)\n",
    ")"
   ]
  }
 ],
 "metadata": {
  "celltoolbar": "Slideshow",
  "kernelspec": {
   "display_name": "Python 3 (ipykernel)",
   "language": "python",
   "name": "python3"
  },
  "language_info": {
   "codemirror_mode": {
    "name": "ipython",
    "version": 3
   },
   "file_extension": ".py",
   "mimetype": "text/x-python",
   "name": "python",
   "nbconvert_exporter": "python",
   "pygments_lexer": "ipython3",
   "version": "3.10.2"
  },
  "rise": {
   "scroll": true
  }
 },
 "nbformat": 4,
 "nbformat_minor": 2
}
